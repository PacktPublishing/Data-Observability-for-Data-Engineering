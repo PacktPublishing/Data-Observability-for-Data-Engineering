{
 "cells": [
  {
   "cell_type": "markdown",
   "id": "67dc1738",
   "metadata": {},
   "source": [
    "# Predicting Orders with Linear Regression"
   ]
  },
  {
   "cell_type": "markdown",
   "id": "a3977bde",
   "metadata": {},
   "source": [
    "## Setup and Initialization"
   ]
  },
  {
   "cell_type": "markdown",
   "id": "37bbdc4c",
   "metadata": {},
   "source": [
    "In this section, we initialize the KensuProvider for tracking data operations and import the required libraries."
   ]
  },
  {
   "cell_type": "code",
   "execution_count": null,
   "id": "b43d8f35",
   "metadata": {},
   "outputs": [],
   "source": [
    "# Setup and Initialization\n",
    "# Initialize the KensuProvider to start tracking data operations\n",
    "import urllib3\n",
    "urllib3.disable_warnings()\n",
    "\n",
    "import kensu.pickle as pickle\n",
    "from kensu.sklearn.model_selection import train_test_split\n",
    "import kensu.pandas as pd\n",
    "\n",
    "from kensu.utils.kensu_provider import KensuProvider\n",
    "KensuProvider().initKensu(allow_reinit=True)\n"
   ]
  },
  {
   "cell_type": "markdown",
   "id": "257127fb",
   "metadata": {},
   "source": [
    "## Data Loading"
   ]
  },
  {
   "cell_type": "markdown",
   "id": "811dc321",
   "metadata": {},
   "source": [
    "Next, we load the orders data from a CSV file and display the first few rows for a quick overview."
   ]
  },
  {
   "cell_type": "code",
   "execution_count": null,
   "id": "32ea5b0d",
   "metadata": {},
   "outputs": [],
   "source": [
    "# Data Loading\n",
    "data = pd.read_csv(\"../data/mar/orders.csv\")\n",
    "data.head()  # Display the first few rows of the dataset for overview\n"
   ]
  },
  {
   "cell_type": "markdown",
   "id": "ca972f52",
   "metadata": {},
   "source": [
    "## Data Preprocessing"
   ]
  },
  {
   "cell_type": "markdown",
   "id": "f7e593d4",
   "metadata": {},
   "source": [
    "Here, we preprocess the data by separating it into features (`X`) and target (`y`). We then split these into training and test sets."
   ]
  },
  {
   "cell_type": "code",
   "execution_count": null,
   "id": "391fff7b",
   "metadata": {},
   "outputs": [],
   "source": [
    "# Data Preprocessing\n",
    "df = data[['total_qty',  'total_basket']]\n",
    "\n",
    "X = df.drop('total_basket', axis=1)\n",
    "y = df['total_basket']\n",
    "\n",
    "X_train, X_test, y_train, y_test = train_test_split(X, y, test_size=0.3, random_state=0)\n"
   ]
  },
  {
   "cell_type": "markdown",
   "id": "40c6588d",
   "metadata": {},
   "source": [
    "## Model Training"
   ]
  },
  {
   "cell_type": "markdown",
   "id": "e529fbb7",
   "metadata": {},
   "source": [
    "In this step, we train a linear regression model using the training data."
   ]
  },
  {
   "cell_type": "code",
   "execution_count": null,
   "id": "72e75367",
   "metadata": {},
   "outputs": [],
   "source": [
    "# Model Training\n",
    "from kensu.sklearn.linear_model import LinearRegression\n",
    "model = LinearRegression().fit(X_train, y_train)\n"
   ]
  },
  {
   "cell_type": "markdown",
   "id": "c88640aa",
   "metadata": {},
   "source": [
    "## Model Saving"
   ]
  },
  {
   "cell_type": "markdown",
   "id": "ccfa2532",
   "metadata": {},
   "source": [
    "Finally, we save the trained model to a pickle file for future use."
   ]
  },
  {
   "cell_type": "code",
   "execution_count": null,
   "id": "caa36202",
   "metadata": {},
   "outputs": [],
   "source": [
    "# Model Saving\n",
    "with open('model.pickle', 'wb') as f:\n",
    "    pickle.dump(model, f)\n"
   ]
  }
 ],
 "metadata": {
  "kernelspec": {
   "display_name": "Python 3 (ipykernel)",
   "language": "python",
   "name": "python3"
  },
  "language_info": {
   "codemirror_mode": {
    "name": "ipython",
    "version": 3
   },
   "file_extension": ".py",
   "mimetype": "text/x-python",
   "name": "python",
   "nbconvert_exporter": "python",
   "pygments_lexer": "ipython3",
   "version": "3.8.12"
  }
 },
 "nbformat": 4,
 "nbformat_minor": 5
}
