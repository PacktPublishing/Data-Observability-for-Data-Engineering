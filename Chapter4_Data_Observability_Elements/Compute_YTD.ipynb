{
 "cells": [
  {
   "cell_type": "markdown",
   "id": "e8b4efde",
   "metadata": {},
   "source": [
    "# Year-to-Date (YTD) Order Data Processing\n",
    "\n",
    "This notebook focuses on processing order data to generate a consolidated Year-to-Date (YTD) dataset. The steps involved include data loading, transformations, for possibly further analysis or model training. Throughout the process, we use the Kensu Provider to monitor and track data lineage, ensuring transparency in data operations."
   ]
  },
  {
   "cell_type": "markdown",
   "id": "78ffe5a6",
   "metadata": {},
   "source": [
    "## Kensu Provider Initialization\n",
    "\n",
    "Kensu provides a way to monitor and track data lineage, ensuring that data processes are transparent and traceable. Initializing Kensu is the first step in this process. Once initialized, it will automatically track operations performed using its integrated libraries."
   ]
  },
  {
   "cell_type": "code",
   "execution_count": null,
   "id": "f58439c8",
   "metadata": {},
   "outputs": [],
   "source": [
    "# Initialize the KensuProvider to start tracking data operations\n",
    "from kensu.utils.kensu_provider import KensuProvider\n",
    "K = KensuProvider().initKensu()"
   ]
  },
  {
   "cell_type": "markdown",
   "id": "96ab34e4",
   "metadata": {},
   "source": [
    "## Data Loading\n",
    "\n",
    "The order data for January and February is loaded in this section. The `kensu-pandas` library, a tracked version of pandas, is used for this purpose. By using kensu-pandas, each data operation becomes traceable, ensuring transparency in data processing."
   ]
  },
  {
   "cell_type": "code",
   "execution_count": null,
   "id": "c4d2e2f5",
   "metadata": {},
   "outputs": [],
   "source": [
    "# Load order data for January and February\n",
    "import kensu.pandas as pd\n",
    "df_jan = pd.read_csv(\"../data/jan/orders.csv\",parse_dates=['date'])\n",
    "df_feb = pd.read_csv(\"../data/feb/orders.csv\",parse_dates=['date'])"
   ]
  },
  {
   "cell_type": "markdown",
   "id": "a7c5a0e1",
   "metadata": {},
   "source": [
    "## Data Transformation\n",
    "\n",
    "Once the data is loaded, it may require some transformations to be in the desired format. Here, columns are renamed for consistency, and datasets for different months are concatenated to produce the Year-to-Date (YTD) data. This consolidated data provides a comprehensive view of the orders up to the current month."
   ]
  },
  {
   "cell_type": "code",
   "execution_count": null,
   "id": "e745bd4d",
   "metadata": {},
   "outputs": [],
   "source": [
    "# Rename columns for consistency and concatenate datasets to get YTD data\n",
    "df_feb = df_feb.rename({'email_customer':'email'},axis=1)\n",
    "data_YTD = pd.concat([df_jan,df_feb])\n",
    "data_YTD.to_csv(\"../data/ytd/ordersYTD.csv\",index=False)"
   ]
  }
 ],
 "metadata": {
  "kernelspec": {
   "display_name": "Python 3 (ipykernel)",
   "language": "python",
   "name": "python3"
  },
  "language_info": {
   "codemirror_mode": {
    "name": "ipython",
    "version": 3
   },
   "file_extension": ".py",
   "mimetype": "text/x-python",
   "name": "python",
   "nbconvert_exporter": "python",
   "pygments_lexer": "ipython3",
   "version": "3.8.12"
  }
 },
 "nbformat": 4,
 "nbformat_minor": 5
}
