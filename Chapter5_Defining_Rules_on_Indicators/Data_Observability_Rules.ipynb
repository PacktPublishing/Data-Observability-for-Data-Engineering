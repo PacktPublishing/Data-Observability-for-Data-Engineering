{
 "cells": [
  {
   "cell_type": "markdown",
   "id": "db4a4b9c",
   "metadata": {},
   "source": [
    "# Data Observability Rules\n",
    "\n",
    "In this notebook, we will see how rules can act as a pre or a post condition on a use case.  \n",
    "With customer files, we will create a Personal_data dataset by joining the Name and the Age of customers following their ID. "
   ]
  },
  {
   "cell_type": "markdown",
   "id": "ab3571fe",
   "metadata": {},
   "source": [
    "## Init Agent\n",
    "We first init the data observability library, this will allow to track in a log file the data transformation happening in this notebook. "
   ]
  },
  {
   "cell_type": "code",
   "execution_count": null,
   "id": "d72462ae",
   "metadata": {},
   "outputs": [],
   "source": [
    "from kensu.utils.kensu_provider import KensuProvider\n",
    "K = KensuProvider().initKensu()\n",
    "import kensu.pandas as pd"
   ]
  },
  {
   "cell_type": "markdown",
   "id": "6fbfc5e1",
   "metadata": {},
   "source": [
    "## Reading data\n",
    "Let's read the datasets:\n",
    "- The first one, `Name`, contains the full name of the customer, and the ID of the customer\n",
    "- The second, `Age`, contains the age and the ID of the customer"
   ]
  },
  {
   "cell_type": "code",
   "execution_count": null,
   "id": "fa27e81f",
   "metadata": {},
   "outputs": [],
   "source": [
    "Name=pd.read_csv('Name_Surname.csv')\n",
    "Age=pd.read_csv('Age.csv')"
   ]
  },
  {
   "cell_type": "code",
   "execution_count": null,
   "id": "ba8c8e91",
   "metadata": {},
   "outputs": [],
   "source": [
    "Name"
   ]
  },
  {
   "cell_type": "code",
   "execution_count": null,
   "id": "0753de6e",
   "metadata": {},
   "outputs": [],
   "source": [
    "Age"
   ]
  },
  {
   "cell_type": "markdown",
   "id": "0080385a",
   "metadata": {},
   "source": [
    "## Pre-Condition\n",
    "\n",
    "In the following cell, we are checking that the two input files contains the `id` column. \n",
    "Without this column, we can't merge the datasets. \n",
    "In case `id` is not present, we will have a warning. This will help in case of issue in the merge, to detect or exclude the cause. "
   ]
  },
  {
   "cell_type": "code",
   "execution_count": null,
   "id": "23982f5a",
   "metadata": {},
   "outputs": [],
   "source": [
    "if 'id' not in Name.columns or 'id' not in Age.columns:\n",
    "    logging.warning('Missing key in the input file(s)')\n",
    "    "
   ]
  },
  {
   "cell_type": "markdown",
   "id": "1d0f9b9a",
   "metadata": {},
   "source": [
    "## Post-Condition\n",
    "\n",
    "We can now merge the two dataset. "
   ]
  },
  {
   "cell_type": "code",
   "execution_count": null,
   "id": "25ff6ca4",
   "metadata": {},
   "outputs": [],
   "source": [
    "Personal_data = Name.merge(Age, on='id')"
   ]
  },
  {
   "cell_type": "code",
   "execution_count": null,
   "id": "16fd118a",
   "metadata": {},
   "outputs": [],
   "source": [
    "Personal_data"
   ]
  },
  {
   "cell_type": "markdown",
   "id": "60bb2207",
   "metadata": {},
   "source": [
    "This check will be performed at the time the `Personal_data.csv` file will be written. \n",
    "It will check that the number of rows of the output dataset has the same number of rows as the inputs, meaning that for all the customer ids in the `Name` dataset, we have a corresponding id in the `Age` dataset. "
   ]
  },
  {
   "cell_type": "code",
   "execution_count": null,
   "id": "12874d83",
   "metadata": {},
   "outputs": [],
   "source": [
    "from kensu.utils.rule_engine import check_nrows_consistency\n",
    "check_nrows_consistency()"
   ]
  },
  {
   "cell_type": "code",
   "execution_count": null,
   "id": "88abddef",
   "metadata": {},
   "outputs": [],
   "source": [
    "Personal_data.to_csv('Personal_data.csv')"
   ]
  },
  {
   "cell_type": "markdown",
   "id": "5cb61ba1",
   "metadata": {},
   "source": [
    "The warning indicates that only 10 out of 19 customers have their id in the `Age` dataset, meaning that the output dataset is of poor quality. "
   ]
  }
 ],
 "metadata": {
  "kernelspec": {
   "display_name": "Python 3 (ipykernel)",
   "language": "python",
   "name": "python3"
  },
  "language_info": {
   "codemirror_mode": {
    "name": "ipython",
    "version": 3
   },
   "file_extension": ".py",
   "mimetype": "text/x-python",
   "name": "python",
   "nbconvert_exporter": "python",
   "pygments_lexer": "ipython3",
   "version": "3.8.12"
  }
 },
 "nbformat": 4,
 "nbformat_minor": 5
}
