{
 "cells": [
  {
   "cell_type": "markdown",
   "id": "22106fa4",
   "metadata": {},
   "source": [
    "# Detect and display anomalies in the observed metrics\n",
    "\n",
    "This notebook is dedicated to analyzing time series data from observability metrics of an e-commerce platform\n",
    "\n",
    "We will conduct the following analyses for some of the columns:\n",
    "- Generate a time series plot of the data.\n",
    "- Decompose the time series into trend, seasonality, and residuals.\n",
    "- Perform a week-by-week correlation analysis between the price and quantity.\n"
   ]
  },
  {
   "cell_type": "code",
   "execution_count": null,
   "id": "017e970b",
   "metadata": {},
   "outputs": [],
   "source": [
    "import pandas as pd"
   ]
  },
  {
   "cell_type": "markdown",
   "id": "83b3a449",
   "metadata": {},
   "source": [
    "## Data Loading and Preliminary Inspection\n",
    "\n",
    "First, we load our dataset and display the first rows. "
   ]
  },
  {
   "cell_type": "code",
   "execution_count": null,
   "id": "92978141",
   "metadata": {},
   "outputs": [],
   "source": [
    "import pandas as pd\n",
    "df=pd.read_csv('../data/anomalies.csv')\n",
    "df.head()"
   ]
  },
  {
   "cell_type": "markdown",
   "id": "fb80fecc",
   "metadata": {},
   "source": [
    "## Anomaly Detection in `buyer.cookie.duration`\n",
    "\n",
    "Using statistical methods, we identify days where the average duration spent by buyers on the website (`buyer.cookie.duration`) deviates significantly from the norm. This can help us detect technical issues or exceptional user behavior.\n"
   ]
  },
  {
   "cell_type": "code",
   "execution_count": null,
   "id": "50d4597a",
   "metadata": {},
   "outputs": [],
   "source": [
    "import matplotlib.pyplot as plt\n",
    "df['date'] = pd.to_datetime(df['date'])\n",
    "\n",
    "plt.figure(figsize=(10, 6))\n",
    "plt.plot(df['date'], df['buyer.cookie.duration'], marker='o', linestyle='-')\n",
    "\n",
    "plt.title('buyer.cookie.duration over time')\n",
    "plt.xlabel('Date')\n",
    "plt.ylabel('buyer.cookie.duration')\n",
    "\n",
    "# Show the plot\n",
    "plt.show()"
   ]
  },
  {
   "cell_type": "markdown",
   "id": "85b13738",
   "metadata": {},
   "source": [
    "We clearly see a drop in the data in June. Let's use the MAD method to confirm it statistically. "
   ]
  },
  {
   "cell_type": "code",
   "execution_count": null,
   "id": "c08920a6",
   "metadata": {},
   "outputs": [],
   "source": [
    "# Instantiate the MAD model\n",
    "from pyod.models.mad import MAD\n",
    "mad = MAD()\n",
    "\n",
    "# Fit the model on the 'buyer.cookie.duration' column\n",
    "mad.fit(df[['buyer.cookie.duration']])\n",
    "\n",
    "# Get the anomaly scores\n",
    "scores = mad.decision_scores_\n",
    "\n",
    "# Plotting the scores to visualize anomalies\n",
    "plt.figure(figsize=(10, 6))\n",
    "plt.plot(df['date'], scores, marker='o')\n",
    "plt.title('Anomaly Scores from MAD for buyer.cookie.duration')\n",
    "plt.xlabel('Date')\n",
    "plt.ylabel('Anomaly Score')\n",
    "plt.show()"
   ]
  },
  {
   "cell_type": "markdown",
   "id": "bacad8c6",
   "metadata": {},
   "source": [
    "## Correlation Analysis Methodology\n",
    "\n",
    "We focus on the relationship between `orders.price.mean` and `orders.quantity.mean`. We calculate the Pearson correlation coefficient for these variables on a weekly basis to observe how their relationship evolves over time."
   ]
  },
  {
   "cell_type": "code",
   "execution_count": null,
   "id": "fdc6af63",
   "metadata": {},
   "outputs": [],
   "source": [
    "\n",
    "from scipy.stats import pearsonr\n",
    "df_correlated = df.set_index('date')\n",
    "\n",
    "\n",
    "df_correlated = df_correlated.resample('W').apply(\n",
    "    lambda x: pearsonr(x['orders.price.mean'], x['orders.quantity.mean'])[0] if len(x) > 1 else np.nan\n",
    ")\n",
    "\n",
    "plt.figure(figsize=(12, 6))\n",
    "plt.plot(df_correlated.index, df_correlated, marker='o', linestyle='-')\n",
    "plt.title('Weekly Correlation between Price and Quantity')\n",
    "plt.xlabel('Week')\n",
    "plt.ylabel('Pearson Correlation Coefficient')\n",
    "plt.axhline(0, color='gray', linestyle='--')\n",
    "plt.show()\n"
   ]
  },
  {
   "cell_type": "markdown",
   "id": "950a9809",
   "metadata": {},
   "source": [
    "## Time Series Decomposition\n",
    "\n",
    "We apply time series decomposition to the `nrows` column to separate it into trend, seasonal, and residual components. This allows us to analyze and understand underlying patterns and outliers in the context of our time series data. The coming cell shows the data overtime, while the next one focuses on the seasonal decomposition of the 6 first weeks of data, where we clearly see an outlier in the residuals. "
   ]
  },
  {
   "cell_type": "code",
   "execution_count": null,
   "id": "b79d95b7",
   "metadata": {},
   "outputs": [],
   "source": [
    "import matplotlib.pyplot as plt\n",
    "df['date'] = pd.to_datetime(df['date'])\n",
    "\n",
    "\n",
    "plt.figure(figsize=(10, 6))\n",
    "plt.plot(df['date'], df['nrows'], marker='o', linestyle='-')\n",
    "\n",
    "\n",
    "plt.title('nrows Over Time')\n",
    "plt.xlabel('Date')\n",
    "plt.ylabel('nrows')\n",
    "\n",
    "plt.show()\n"
   ]
  },
  {
   "cell_type": "code",
   "execution_count": null,
   "id": "425eaa19",
   "metadata": {},
   "outputs": [],
   "source": [
    "\n",
    "six_weeks_data = df[df['date'] < (df['date'].min() + pd.Timedelta(weeks=6))]\n",
    "\n",
    "six_weeks_data['day_of_week'] = six_weeks_data['date'].dt.strftime('%a')\n",
    "plt.figure(figsize=(12, 6))\n",
    "plt.plot(six_weeks_data['date'], six_weeks_data['nrows'], marker='o', linestyle='-')\n",
    "\n",
    "plt.title('nrows Over the First 6 Weeks with Days of the Week')\n",
    "plt.xlabel('Date')\n",
    "plt.ylabel('nrows')\n",
    "\n",
    "for i in range(len(six_weeks_data)):\n",
    "    plt.text(six_weeks_data['date'].iloc[i], \n",
    "             six_weeks_data['nrows'].iloc[i] + 150,  # Adjust vertical position for more space\n",
    "             six_weeks_data['day_of_week'].iloc[i], \n",
    "             fontsize=8, ha='right')\n",
    "\n",
    "plt.xticks(rotation=45)\n",
    "plt.tight_layout()\n",
    "\n",
    "plt.show()\n",
    "\n",
    "\n",
    "\n"
   ]
  },
  {
   "cell_type": "code",
   "execution_count": null,
   "id": "43f08ab7",
   "metadata": {},
   "outputs": [],
   "source": [
    "import statsmodels.api as sm\n",
    "import matplotlib.pyplot as plt\n",
    "decomposition = sm.tsa.seasonal_decompose(six_weeks_data['nrows'], model='additive', period=7)\n",
    "fig = decomposition.plot()\n",
    "plt.show()\n"
   ]
  }
 ],
 "metadata": {
  "kernelspec": {
   "display_name": "Python 3 (ipykernel)",
   "language": "python",
   "name": "python3"
  },
  "language_info": {
   "codemirror_mode": {
    "name": "ipython",
    "version": 3
   },
   "file_extension": ".py",
   "mimetype": "text/x-python",
   "name": "python",
   "nbconvert_exporter": "python",
   "pygments_lexer": "ipython3",
   "version": "3.8.12"
  }
 },
 "nbformat": 4,
 "nbformat_minor": 5
}
