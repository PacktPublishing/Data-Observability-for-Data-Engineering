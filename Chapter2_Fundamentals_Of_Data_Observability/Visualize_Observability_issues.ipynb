{
 "cells": [
  {
   "cell_type": "markdown",
   "id": "a1b617a1",
   "metadata": {},
   "source": [
    "# Visualize Data Issues\n",
    "\n",
    "This notebook provides a visualization of common data quality issues that may arise within an application, highlighting the importance of robust data validation and cleaning processes."
   ]
  },
  {
   "cell_type": "markdown",
   "id": "bed0168f",
   "metadata": {},
   "source": [
    "This notebook is designed to illustrate how data quality issues can manifest in an application. By visualizing these issues, we aim to gain a better understanding of their nature and impact."
   ]
  },
  {
   "cell_type": "markdown",
   "id": "99deb5e8",
   "metadata": {},
   "source": [
    "## Libraries Import\n",
    "\n",
    "This cell is responsible for importing the necessary libraries required for our example. Ensuring that all the required libraries are loaded is essential for the analyses that will follow."
   ]
  },
  {
   "cell_type": "code",
   "execution_count": null,
   "id": "69da1ad4",
   "metadata": {},
   "outputs": [],
   "source": [
    "import pandas as pd\n",
    "import matplotlib.pyplot as plt\n",
    "import sqlite3"
   ]
  },
  {
   "cell_type": "markdown",
   "id": "fc92d471",
   "metadata": {},
   "source": [
    "## January Data Analysis\n",
    "\n",
    "In January, we encountered a timeliness issue with our data, which could also be interpreted as a completeness issue. Let's begin by loading the dataset to investigate this matter further.\n",
    "\n",
    "- **Timeliness Issue**: This refers to the scenario where data is not available when expected or required.\n",
    "- **Completeness Issue**: This pertains to instances where data is missing or incomplete."
   ]
  },
  {
   "cell_type": "code",
   "execution_count": null,
   "id": "7946217a",
   "metadata": {},
   "outputs": [],
   "source": [
    "df_jan = pd.read_csv(\"../data/jan/orders.csv\",parse_dates=['date'])\n",
    "df_jan.head()"
   ]
  },
  {
   "cell_type": "markdown",
   "id": "61d9cb23",
   "metadata": {},
   "source": [
    "At first glance, the head of the dataset does not exhibit any peculiarities. Nevertheless, we have received reports of an issue concerning the number of pages visited. To delve deeper into this matter, we'll visualize the average number of pages visited on a daily basis."
   ]
  },
  {
   "cell_type": "code",
   "execution_count": null,
   "id": "d729cb44",
   "metadata": {},
   "outputs": [],
   "source": [
    "mean_duration = df_jan.groupby('date')['page_visited'].mean()\n",
    "\n",
    "plt.bar(x=mean_duration.index, height=mean_duration.values)\n",
    "plt.xticks(rotation=45, ha=\"right\")\n",
    "\n",
    "plt.xlabel('Date')  \n",
    "plt.ylabel('Average Page Visits') \n",
    "\n",
    "plt.title('Daily Average Page Visits in January')\n",
    "plt.show()"
   ]
  },
  {
   "cell_type": "markdown",
   "id": "4c540fb1",
   "metadata": {},
   "source": [
    "The visualization reveals a gap in the data, indicating missing averages for certain days. A closer examination of each date confirms this observation, with data absent from the 17th to the 23rd of January."
   ]
  },
  {
   "cell_type": "code",
   "execution_count": null,
   "id": "e7e7d92d",
   "metadata": {},
   "outputs": [],
   "source": [
    "df_jan['date'].unique()"
   ]
  },
  {
   "cell_type": "markdown",
   "id": "cbbd1cee",
   "metadata": {},
   "source": [
    "The subsequent step involves appending the dataset to the SQL `datalake.orders` table to ensure that our data lake is up-to-date with the latest information."
   ]
  },
  {
   "cell_type": "code",
   "execution_count": null,
   "id": "efa0e138",
   "metadata": {},
   "outputs": [],
   "source": [
    "con=sqlite3.connect('datalake')\n",
    "df_jan.to_sql('orders',con,if_exists='append')"
   ]
  },
  {
   "cell_type": "markdown",
   "id": "dbfb5f5c",
   "metadata": {},
   "source": [
    "## February Data Issues\n",
    "\n",
    "In February, we encountered a significant issue: writing the dataset to the `datalake.orders` table was infeasible due to a breakdown in the application."
   ]
  },
  {
   "cell_type": "code",
   "execution_count": null,
   "id": "acc8812f",
   "metadata": {},
   "outputs": [],
   "source": [
    "df_feb = pd.read_csv(\"../data/feb/orders.csv\",parse_dates=['date'])"
   ]
  },
  {
   "cell_type": "markdown",
   "id": "700b97ff",
   "metadata": {},
   "source": [
    "An inspection of the error reveals a completeness issue, this time attributable to an incomplete schema. Specifically, the field `email_customer` was added. In fact, the field `email` was renamed to `email_customer` in this dataset, which likely caused the problem."
   ]
  },
  {
   "cell_type": "code",
   "execution_count": null,
   "id": "3dd82dbb",
   "metadata": {},
   "outputs": [],
   "source": [
    "df_feb.to_sql('orders',con,if_exists='append')"
   ]
  },
  {
   "cell_type": "markdown",
   "id": "c6789276",
   "metadata": {},
   "source": [
    "## March Data Anomalies\n",
    "\n",
    "March brought forth another completeness issue. Due to complications with the cookies provider, there was a noticeable increase in the number of `NaN` values for the `page_visited` column, rising from approximately 5% to 25%."
   ]
  },
  {
   "cell_type": "code",
   "execution_count": null,
   "id": "90fef183",
   "metadata": {},
   "outputs": [],
   "source": [
    "df_mar = pd.read_csv(\"../data/mar/orders.csv\",parse_dates=['date'])"
   ]
  },
  {
   "cell_type": "code",
   "execution_count": null,
   "id": "34a7e4dd",
   "metadata": {},
   "outputs": [],
   "source": [
    "import matplotlib.pyplot as plt\n",
    "\n",
    "na_jan = sum(df_jan[\"page_visited\"].isna())/df_jan.shape[1]\n",
    "na_feb = sum(df_feb[\"page_visited\"].isna())/df_feb.shape[1]\n",
    "na_mar = sum(df_mar[\"page_visited\"].isna())/df_mar.shape[1]\n",
    "\n",
    "plt.bar(x=['jan', 'feb', 'mar'], height=[na_jan, na_feb, na_mar])\n",
    "\n",
    "\n",
    "plt.xlabel('Month')  \n",
    "plt.ylabel('Proportion of Missing Page Visits') \n",
    "\n",
    "\n",
    "plt.title('Proportion of Missing Page Visits per Month')\n",
    "\n",
    "plt.show()"
   ]
  },
  {
   "cell_type": "markdown",
   "id": "d584b4e9",
   "metadata": {},
   "source": [
    "## Summary\n",
    "\n",
    "Throughout this notebook, we have explored various data issues. Some caused immediate disruptions in the application, while others were more insidious. Recognizing and addressing these issues is crucial for maintaining data integrity and ensuring smooth application functionality."
   ]
  }
 ],
 "metadata": {
  "kernelspec": {
   "display_name": "Python 3 (ipykernel)",
   "language": "python",
   "name": "python3"
  },
  "language_info": {
   "codemirror_mode": {
    "name": "ipython",
    "version": 3
   },
   "file_extension": ".py",
   "mimetype": "text/x-python",
   "name": "python",
   "nbconvert_exporter": "python",
   "pygments_lexer": "ipython3",
   "version": "3.8.12"
  }
 },
 "nbformat": 4,
 "nbformat_minor": 5
}
